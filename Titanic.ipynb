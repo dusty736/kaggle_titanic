{
 "cells": [
  {
   "cell_type": "markdown",
   "metadata": {},
   "source": [
    "# Titanic: Who will survive?\n",
    "## Author Dustin Burnham\n",
    "### Date Started: 9/29/2019\n",
    "\n",
    "#### Outline:\n",
    "1. Read in Data\n",
    "2. Clean Data\n",
    "3. EDA\n",
    "4. Build and Test Logistic Regression Model\n",
    "5. Build and Test Random Forrest Model\n",
    "6. Build and Test XGBoosted Ensemble Model\n",
    "7. Summary\n",
    "\n",
    "The purpose of this project is to predict who survived the sinking of the Titanic based off of their personal information.  I will try using a logistic regression, random forrest, and XGBoosted ensemble models to classify into \"1\" survived, and \"0\" did not survive.  The data has already been split by the folks at Kaggle into training and testing data, however I will combine them for the purpose of EDA."
   ]
  },
  {
   "cell_type": "code",
   "execution_count": 106,
   "metadata": {},
   "outputs": [],
   "source": [
    "# Read in Libraries\n",
    "from sklearn import svm, metrics\n",
    "import pandas as pd\n",
    "import numpy as np\n",
    "import seaborn as sns\n",
    "from collections import Counter\n",
    "import category_encoders as ce\n",
    "from sklearn.preprocessing import MinMaxScaler\n",
    "from sklearn.ensemble import GradientBoostingClassifier\n",
    "from sklearn.tree import DecisionTreeClassifier \n",
    "from sklearn.ensemble import RandomForestClassifier\n",
    "from sklearn.linear_model import LogisticRegressionCV\n",
    "from sklearn.metrics import classification_report\n",
    "from sklearn.model_selection import GridSearchCV\n",
    "import matplotlib.pyplot as plt\n",
    "%matplotlib inline"
   ]
  },
  {
   "cell_type": "markdown",
   "metadata": {},
   "source": [
    "### Read in data"
   ]
  },
  {
   "cell_type": "code",
   "execution_count": 198,
   "metadata": {},
   "outputs": [],
   "source": [
    "# Read in data\n",
    "train_data = pd.read_csv(\"train.csv\")\n",
    "test_data = pd.read_csv(\"test.csv\")"
   ]
  },
  {
   "cell_type": "markdown",
   "metadata": {},
   "source": [
    "### 2. Clean Data"
   ]
  },
  {
   "cell_type": "code",
   "execution_count": 207,
   "metadata": {},
   "outputs": [
    {
     "data": {
      "text/plain": [
       "0                               Braund, Mr. Owen Harris\n",
       "1     Cumings, Mrs. John Bradley (Florence Briggs Th...\n",
       "2                                Heikkinen, Miss. Laina\n",
       "3          Futrelle, Mrs. Jacques Heath (Lily May Peel)\n",
       "4                              Allen, Mr. William Henry\n",
       "5                                      Moran, Mr. James\n",
       "6                               McCarthy, Mr. Timothy J\n",
       "7                        Palsson, Master. Gosta Leonard\n",
       "8     Johnson, Mrs. Oscar W (Elisabeth Vilhelmina Berg)\n",
       "9                   Nasser, Mrs. Nicholas (Adele Achem)\n",
       "10                      Sandstrom, Miss. Marguerite Rut\n",
       "11                             Bonnell, Miss. Elizabeth\n",
       "12                       Saundercock, Mr. William Henry\n",
       "13                          Andersson, Mr. Anders Johan\n",
       "14                 Vestrom, Miss. Hulda Amanda Adolfina\n",
       "Name: Name, dtype: object"
      ]
     },
     "execution_count": 207,
     "metadata": {},
     "output_type": "execute_result"
    }
   ],
   "source": [
    "train_data['Name'].head(15)"
   ]
  },
  {
   "cell_type": "code",
   "execution_count": 212,
   "metadata": {},
   "outputs": [],
   "source": [
    "split_1 = train_data['Name'].str.split(',', expand=True)\n",
    "split_2 = split_1.loc[:,1].str.split(' ', expand=True)\n",
    "train_data['last_name'] = split_1.loc[:,0]\n",
    "train_data['title'] = split_2.loc[:,1]"
   ]
  },
  {
   "cell_type": "code",
   "execution_count": 213,
   "metadata": {},
   "outputs": [],
   "source": [
    "split_1 = test_data['Name'].str.split(',', expand=True)\n",
    "split_2 = split_1.loc[:,1].str.split(' ', expand=True)\n",
    "test_data['last_name'] = split_1.loc[:,0]\n",
    "test_data['title'] = split_2.loc[:,1]"
   ]
  },
  {
   "cell_type": "code",
   "execution_count": 214,
   "metadata": {},
   "outputs": [
    {
     "data": {
      "text/html": [
       "<div>\n",
       "<style scoped>\n",
       "    .dataframe tbody tr th:only-of-type {\n",
       "        vertical-align: middle;\n",
       "    }\n",
       "\n",
       "    .dataframe tbody tr th {\n",
       "        vertical-align: top;\n",
       "    }\n",
       "\n",
       "    .dataframe thead th {\n",
       "        text-align: right;\n",
       "    }\n",
       "</style>\n",
       "<table border=\"1\" class=\"dataframe\">\n",
       "  <thead>\n",
       "    <tr style=\"text-align: right;\">\n",
       "      <th></th>\n",
       "      <th>PassengerId</th>\n",
       "      <th>Pclass</th>\n",
       "      <th>Name</th>\n",
       "      <th>Sex</th>\n",
       "      <th>Age</th>\n",
       "      <th>SibSp</th>\n",
       "      <th>Parch</th>\n",
       "      <th>Ticket</th>\n",
       "      <th>Fare</th>\n",
       "      <th>Cabin</th>\n",
       "      <th>Embarked</th>\n",
       "      <th>last_name</th>\n",
       "      <th>title</th>\n",
       "    </tr>\n",
       "  </thead>\n",
       "  <tbody>\n",
       "    <tr>\n",
       "      <th>0</th>\n",
       "      <td>892</td>\n",
       "      <td>3</td>\n",
       "      <td>Kelly, Mr. James</td>\n",
       "      <td>male</td>\n",
       "      <td>34.5</td>\n",
       "      <td>0</td>\n",
       "      <td>0</td>\n",
       "      <td>330911</td>\n",
       "      <td>7.8292</td>\n",
       "      <td>NaN</td>\n",
       "      <td>Q</td>\n",
       "      <td>Kelly</td>\n",
       "      <td>Mr.</td>\n",
       "    </tr>\n",
       "    <tr>\n",
       "      <th>1</th>\n",
       "      <td>893</td>\n",
       "      <td>3</td>\n",
       "      <td>Wilkes, Mrs. James (Ellen Needs)</td>\n",
       "      <td>female</td>\n",
       "      <td>47.0</td>\n",
       "      <td>1</td>\n",
       "      <td>0</td>\n",
       "      <td>363272</td>\n",
       "      <td>7.0000</td>\n",
       "      <td>NaN</td>\n",
       "      <td>S</td>\n",
       "      <td>Wilkes</td>\n",
       "      <td>Mrs.</td>\n",
       "    </tr>\n",
       "    <tr>\n",
       "      <th>2</th>\n",
       "      <td>894</td>\n",
       "      <td>2</td>\n",
       "      <td>Myles, Mr. Thomas Francis</td>\n",
       "      <td>male</td>\n",
       "      <td>62.0</td>\n",
       "      <td>0</td>\n",
       "      <td>0</td>\n",
       "      <td>240276</td>\n",
       "      <td>9.6875</td>\n",
       "      <td>NaN</td>\n",
       "      <td>Q</td>\n",
       "      <td>Myles</td>\n",
       "      <td>Mr.</td>\n",
       "    </tr>\n",
       "    <tr>\n",
       "      <th>3</th>\n",
       "      <td>895</td>\n",
       "      <td>3</td>\n",
       "      <td>Wirz, Mr. Albert</td>\n",
       "      <td>male</td>\n",
       "      <td>27.0</td>\n",
       "      <td>0</td>\n",
       "      <td>0</td>\n",
       "      <td>315154</td>\n",
       "      <td>8.6625</td>\n",
       "      <td>NaN</td>\n",
       "      <td>S</td>\n",
       "      <td>Wirz</td>\n",
       "      <td>Mr.</td>\n",
       "    </tr>\n",
       "    <tr>\n",
       "      <th>4</th>\n",
       "      <td>896</td>\n",
       "      <td>3</td>\n",
       "      <td>Hirvonen, Mrs. Alexander (Helga E Lindqvist)</td>\n",
       "      <td>female</td>\n",
       "      <td>22.0</td>\n",
       "      <td>1</td>\n",
       "      <td>1</td>\n",
       "      <td>3101298</td>\n",
       "      <td>12.2875</td>\n",
       "      <td>NaN</td>\n",
       "      <td>S</td>\n",
       "      <td>Hirvonen</td>\n",
       "      <td>Mrs.</td>\n",
       "    </tr>\n",
       "  </tbody>\n",
       "</table>\n",
       "</div>"
      ],
      "text/plain": [
       "   PassengerId  Pclass                                          Name     Sex  \\\n",
       "0          892       3                              Kelly, Mr. James    male   \n",
       "1          893       3              Wilkes, Mrs. James (Ellen Needs)  female   \n",
       "2          894       2                     Myles, Mr. Thomas Francis    male   \n",
       "3          895       3                              Wirz, Mr. Albert    male   \n",
       "4          896       3  Hirvonen, Mrs. Alexander (Helga E Lindqvist)  female   \n",
       "\n",
       "    Age  SibSp  Parch   Ticket     Fare Cabin Embarked last_name title  \n",
       "0  34.5      0      0   330911   7.8292   NaN        Q     Kelly   Mr.  \n",
       "1  47.0      1      0   363272   7.0000   NaN        S    Wilkes  Mrs.  \n",
       "2  62.0      0      0   240276   9.6875   NaN        Q     Myles   Mr.  \n",
       "3  27.0      0      0   315154   8.6625   NaN        S      Wirz   Mr.  \n",
       "4  22.0      1      1  3101298  12.2875   NaN        S  Hirvonen  Mrs.  "
      ]
     },
     "execution_count": 214,
     "metadata": {},
     "output_type": "execute_result"
    }
   ],
   "source": [
    "test_data.head()"
   ]
  },
  {
   "cell_type": "code",
   "execution_count": 215,
   "metadata": {},
   "outputs": [
    {
     "data": {
      "text/plain": [
       "PassengerId      int64\n",
       "Survived         int64\n",
       "Pclass           int64\n",
       "Name            object\n",
       "Sex             object\n",
       "Age            float64\n",
       "SibSp            int64\n",
       "Parch            int64\n",
       "Ticket          object\n",
       "Fare           float64\n",
       "Cabin           object\n",
       "Embarked        object\n",
       "last_name       object\n",
       "title           object\n",
       "dtype: object"
      ]
     },
     "execution_count": 215,
     "metadata": {},
     "output_type": "execute_result"
    }
   ],
   "source": [
    "train_data.dtypes"
   ]
  },
  {
   "cell_type": "code",
   "execution_count": 216,
   "metadata": {},
   "outputs": [
    {
     "data": {
      "text/plain": [
       "PassengerId      0\n",
       "Survived         0\n",
       "Pclass           0\n",
       "Name             0\n",
       "Sex              0\n",
       "Age            177\n",
       "SibSp            0\n",
       "Parch            0\n",
       "Ticket           0\n",
       "Fare             0\n",
       "Cabin          687\n",
       "Embarked         2\n",
       "last_name        0\n",
       "title            0\n",
       "dtype: int64"
      ]
     },
     "execution_count": 216,
     "metadata": {},
     "output_type": "execute_result"
    }
   ],
   "source": [
    "train_data.isna().sum()"
   ]
  },
  {
   "cell_type": "code",
   "execution_count": 217,
   "metadata": {},
   "outputs": [
    {
     "data": {
      "text/plain": [
       "891"
      ]
     },
     "execution_count": 217,
     "metadata": {},
     "output_type": "execute_result"
    }
   ],
   "source": [
    "len(train_data)"
   ]
  },
  {
   "cell_type": "code",
   "execution_count": 218,
   "metadata": {},
   "outputs": [
    {
     "data": {
      "text/plain": [
       "PassengerId      0\n",
       "Pclass           0\n",
       "Name             0\n",
       "Sex              0\n",
       "Age             86\n",
       "SibSp            0\n",
       "Parch            0\n",
       "Ticket           0\n",
       "Fare             1\n",
       "Cabin          327\n",
       "Embarked         0\n",
       "last_name        0\n",
       "title            0\n",
       "dtype: int64"
      ]
     },
     "execution_count": 218,
     "metadata": {},
     "output_type": "execute_result"
    }
   ],
   "source": [
    "test_data.isna().sum()"
   ]
  },
  {
   "cell_type": "code",
   "execution_count": 219,
   "metadata": {},
   "outputs": [
    {
     "data": {
      "text/plain": [
       "418"
      ]
     },
     "execution_count": 219,
     "metadata": {},
     "output_type": "execute_result"
    }
   ],
   "source": [
    "len(test_data)"
   ]
  },
  {
   "cell_type": "markdown",
   "metadata": {},
   "source": [
    "#### Decision:\n",
    "For creating a model, I will drop the \"PassengerID\", \"Ticket\", and \"Cabin\" columns.  Roughly 75% of the cabin values are NA, however we might be able to do some feature engineering to get the first letter of the Cabin."
   ]
  },
  {
   "cell_type": "code",
   "execution_count": 220,
   "metadata": {},
   "outputs": [],
   "source": [
    "train_data = train_data.drop([\"PassengerId\", \"Cabin\", \"Ticket\"], axis = 1)\n",
    "test_data = test_data.drop([\"PassengerId\", \"Cabin\", \"Ticket\"], axis = 1)"
   ]
  },
  {
   "cell_type": "markdown",
   "metadata": {},
   "source": [
    "#### Fix NAs in the age variable"
   ]
  },
  {
   "cell_type": "code",
   "execution_count": 221,
   "metadata": {},
   "outputs": [],
   "source": [
    "med_male_age = np.nanmedian(train_data.loc[train_data[\"Sex\"] == \"male\",'Age'])\n",
    "mean_male_age = np.nanmean(train_data.loc[train_data[\"Sex\"] == \"male\",'Age'])\n",
    "med_female_age = np.nanmedian(train_data.loc[train_data[\"Sex\"] == \"female\",'Age'])\n",
    "mean_female_age = np.nanmean(train_data.loc[train_data[\"Sex\"] == \"female\",'Age'])"
   ]
  },
  {
   "cell_type": "code",
   "execution_count": 222,
   "metadata": {},
   "outputs": [
    {
     "data": {
      "image/png": "[encoded data removed]",
      "text/plain": [
       "<Figure size 432x288 with 1 Axes>"
      ]
     },
     "metadata": {},
     "output_type": "display_data"
    },
    {
     "data": {
      "image/png": "[encoded data removed]",
      "text/plain": [
       "<Figure size 432x288 with 1 Axes>"
      ]
     },
     "metadata": {},
     "output_type": "display_data"
    }
   ],
   "source": [
    "sns.set_style(\"darkgrid\")\n",
    "sns.kdeplot(train_data.loc[train_data[\"Sex\"] == \"male\",'Age'].dropna(axis=0), shade = True, label =\"Male\", color = 'b')\n",
    "sns.kdeplot(train_data.loc[train_data[\"Sex\"] == \"female\",'Age'].dropna(axis=0), shade = True, label =\"Female\", color = 'g')\n",
    "plt.axvline(med_male_age, 0,1, color = 'b', label = \"Median Age Male\")\n",
    "plt.axvline(med_female_age, 0,1, color = 'g', label = \"Median Age Female\")\n",
    "plt.xlabel(\"Age\")\n",
    "plt.ylabel(\"Density\")\n",
    "plt.title(\"Male vs Female Age Distributions with Median Ages\")\n",
    "plt.show()\n",
    "\n",
    "sns.kdeplot(train_data.loc[train_data[\"Sex\"] == \"male\",'Age'].dropna(axis=0), shade = True, label = \"Male\", color = 'b')\n",
    "sns.kdeplot(train_data.loc[train_data[\"Sex\"] == \"female\",'Age'].dropna(axis=0), shade = True, label = \"Female\", color = 'g')\n",
    "plt.axvline(mean_male_age, 0,1, color = 'b', label = \"Mean Age Male\")\n",
    "plt.axvline(mean_female_age, 0,1, color = 'g', label = \"Mean Age Female\")\n",
    "plt.xlabel(\"Age\")\n",
    "plt.ylabel(\"Density\")\n",
    "plt.title(\"Male vs Female Age Distributions with Mean Ages\")\n",
    "plt.show()"
   ]
  },
  {
   "cell_type": "code",
   "execution_count": 223,
   "metadata": {},
   "outputs": [
    {
     "name": "stdout",
     "output_type": "stream",
     "text": [
      "Male Median Age: 29.00\n",
      "Male Mean Age: 30.73\n",
      "Feale Median Age: 27.00\n",
      "Feale Mean Age: 27.92\n"
     ]
    }
   ],
   "source": [
    "print(\"Male Median Age: %3.2f\" % med_male_age)\n",
    "print(\"Male Mean Age: %3.2f\" % mean_male_age)\n",
    "print(\"Feale Median Age: %3.2f\" % med_female_age)\n",
    "print(\"Feale Mean Age: %3.2f\" % mean_female_age)"
   ]
  },
  {
   "cell_type": "markdown",
   "metadata": {},
   "source": [
    "#### Decision:\n",
    "Because the distributions are right skewed, I will use the median instead of mean for each gender to replace NaN values."
   ]
  },
  {
   "cell_type": "code",
   "execution_count": 224,
   "metadata": {},
   "outputs": [],
   "source": [
    "train_data.loc[(train_data[\"Age\"].isnull()) & (train_data['Sex'] == \"female\"),\"Age\"] = med_female_age\n",
    "train_data.loc[(train_data[\"Age\"].isnull()) & (train_data['Sex'] == \"male\"),\"Age\"] = med_male_age\n",
    "test_data.loc[(test_data[\"Age\"].isnull()) & (test_data['Sex'] == \"female\"),\"Age\"] = med_female_age\n",
    "test_data.loc[(test_data[\"Age\"].isnull()) & (test_data['Sex'] == \"male\"),\"Age\"] = med_male_age"
   ]
  },
  {
   "cell_type": "code",
   "execution_count": 225,
   "metadata": {},
   "outputs": [
    {
     "data": {
      "text/plain": [
       "Text(0.5, 1.0, 'Fare Distribution')"
      ]
     },
     "execution_count": 225,
     "metadata": {},
     "output_type": "execute_result"
    },
    {
     "data": {
      "image/png": "[encoded data removed]",
      "text/plain": [
       "<Figure size 432x288 with 1 Axes>"
      ]
     },
     "metadata": {},
     "output_type": "display_data"
    }
   ],
   "source": [
    "sns.kdeplot(train_data[\"Fare\"], color = 'b', shade = True)\n",
    "plt.xlabel(\"Price\")\n",
    "plt.title(\"Fare Distribution\")"
   ]
  },
  {
   "cell_type": "code",
   "execution_count": 226,
   "metadata": {},
   "outputs": [
    {
     "data": {
      "text/plain": [
       "Survived     0\n",
       "Pclass       0\n",
       "Name         0\n",
       "Sex          0\n",
       "Age          0\n",
       "SibSp        0\n",
       "Parch        0\n",
       "Fare         0\n",
       "Embarked     2\n",
       "last_name    0\n",
       "title        0\n",
       "dtype: int64"
      ]
     },
     "execution_count": 226,
     "metadata": {},
     "output_type": "execute_result"
    }
   ],
   "source": [
    "train_data.isna().sum()"
   ]
  },
  {
   "cell_type": "code",
   "execution_count": 227,
   "metadata": {},
   "outputs": [
    {
     "data": {
      "text/plain": [
       "Pclass       0\n",
       "Name         0\n",
       "Sex          0\n",
       "Age          0\n",
       "SibSp        0\n",
       "Parch        0\n",
       "Fare         1\n",
       "Embarked     0\n",
       "last_name    0\n",
       "title        0\n",
       "dtype: int64"
      ]
     },
     "execution_count": 227,
     "metadata": {},
     "output_type": "execute_result"
    }
   ],
   "source": [
    "test_data.isna().sum()"
   ]
  },
  {
   "cell_type": "markdown",
   "metadata": {},
   "source": [
    "#### Decision:\n",
    "Because the distribution is very right skewed and non-normal, I will just drop the one row with NaN fare."
   ]
  },
  {
   "cell_type": "code",
   "execution_count": 228,
   "metadata": {},
   "outputs": [
    {
     "name": "stdout",
     "output_type": "stream",
     "text": [
      "Resampled dataset shape Counter({'S': 644, 'C': 168, 'Q': 77, nan: 2})\n"
     ]
    }
   ],
   "source": [
    "print('Resampled dataset shape {}'.format(Counter(train_data[\"Embarked\"])))"
   ]
  },
  {
   "cell_type": "code",
   "execution_count": 229,
   "metadata": {},
   "outputs": [
    {
     "data": {
      "text/plain": [
       "<matplotlib.axes._subplots.AxesSubplot at 0x1a258c3eb8>"
      ]
     },
     "execution_count": 229,
     "metadata": {},
     "output_type": "execute_result"
    },
    {
     "data": {
      "image/png": "[encoded data removed]",
      "text/plain": [
       "<Figure size 432x288 with 1 Axes>"
      ]
     },
     "metadata": {},
     "output_type": "display_data"
    }
   ],
   "source": [
    "sns.countplot(x = \"Embarked\", hue = \"Pclass\", data=train_data)"
   ]
  },
  {
   "cell_type": "code",
   "execution_count": 230,
   "metadata": {},
   "outputs": [],
   "source": [
    "s_emb = train_data.loc[train_data['Embarked'] == 'S',:]\n",
    "c_emb = train_data.loc[train_data['Embarked'] == 'C',:]\n",
    "q_emb = train_data.loc[train_data['Embarked'] == 'Q',:]"
   ]
  },
  {
   "cell_type": "code",
   "execution_count": 231,
   "metadata": {},
   "outputs": [
    {
     "data": {
      "text/plain": [
       "0    1\n",
       "dtype: int64"
      ]
     },
     "execution_count": 231,
     "metadata": {},
     "output_type": "execute_result"
    }
   ],
   "source": [
    "c_emb['Pclass'].mode()\n"
   ]
  },
  {
   "cell_type": "code",
   "execution_count": 232,
   "metadata": {},
   "outputs": [],
   "source": [
    "def plot_embarked(data, variable, metric):\n",
    "    sns.set_style(\"darkgrid\")\n",
    "    sns.kdeplot(data.loc[data[\"Embarked\"] == \"S\",variable].dropna(axis=0), shade = True, label =\"Southampton\", color = 'b')\n",
    "    sns.kdeplot(data.loc[data[\"Embarked\"] == \"C\",variable].dropna(axis=0), shade = True, label =\"Cherbourg\", color = 'g')\n",
    "    sns.kdeplot(data.loc[data[\"Embarked\"] == \"Q\",variable].dropna(axis=0), shade = True, label =\"Queenstown\", color = 'r')\n",
    "    \n",
    "    if metric == 'mean':\n",
    "        s_met = np.nanmean(data.loc[data[\"Embarked\"] == \"S\",variable])\n",
    "        c_met = np.nanmean(data.loc[data[\"Embarked\"] == \"C\",variable])\n",
    "        q_met = np.nanmean(data.loc[data[\"Embarked\"] == \"Q\",variable])\n",
    "    elif metric == 'median':\n",
    "        s_met = np.nanmedian(data.loc[data[\"Embarked\"] == \"S\",variable])\n",
    "        c_met = np.nanmedian(data.loc[data[\"Embarked\"] == \"C\",variable])\n",
    "        q_met = np.nanmedian(data.loc[data[\"Embarked\"] == \"Q\",variable])\n",
    "    else:\n",
    "        raise ValueError()\n",
    "    \n",
    "    plt.axvline(s_met, 0,1, color = 'b', label = metric + variable + \" Southampton\")\n",
    "    plt.axvline(c_met, 0,1, color = 'g', label = metric + variable + \" Cherbourg\")\n",
    "    plt.axvline(q_met, 0,1, color = 'r', label = metric + variable + \" Queenstown\")\n",
    "    plt.xlabel(variable)\n",
    "    plt.ylabel(\"Density\")\n",
    "    plt.title(\"Embarked Distributions with \" + metric + \" \" + variable)\n",
    "    plt.show()"
   ]
  },
  {
   "cell_type": "code",
   "execution_count": 233,
   "metadata": {},
   "outputs": [
    {
     "data": {
      "image/png": "[encoded data removed]",
      "text/plain": [
       "<Figure size 432x288 with 1 Axes>"
      ]
     },
     "metadata": {},
     "output_type": "display_data"
    }
   ],
   "source": [
    "plot_embarked(train_data, 'Pclass', 'mean')"
   ]
  },
  {
   "cell_type": "code",
   "execution_count": 234,
   "metadata": {},
   "outputs": [
    {
     "data": {
      "image/png": "[encoded data removed]",
      "text/plain": [
       "<Figure size 432x288 with 1 Axes>"
      ]
     },
     "metadata": {},
     "output_type": "display_data"
    }
   ],
   "source": [
    "plot_embarked(train_data, 'Age', 'mean')"
   ]
  },
  {
   "cell_type": "code",
   "execution_count": 235,
   "metadata": {},
   "outputs": [],
   "source": [
    "train_data.loc[(train_data[\"Embarked\"].isnull()) & ((train_data[\"Pclass\"] == 3) | (train_data[\"Pclass\"] == 2)),\"Embarked\"] = 'S'\n",
    "train_data.loc[(train_data[\"Embarked\"].isnull()) & (train_data[\"Pclass\"] == 1),\"Embarked\"] = 'C'"
   ]
  },
  {
   "cell_type": "code",
   "execution_count": 236,
   "metadata": {},
   "outputs": [],
   "source": [
    "test_data.loc[(test_data[\"Embarked\"].isnull()) & ((test_data[\"Pclass\"] == 3) | (test_data[\"Pclass\"] == 2)),\"Embarked\"] = 'S'\n",
    "test_data.loc[(test_data[\"Embarked\"].isnull()) & (test_data[\"Pclass\"] == 1),\"Embarked\"] = 'C'"
   ]
  },
  {
   "cell_type": "markdown",
   "metadata": {},
   "source": [
    "#### Decision:\n",
    "Because the classification of where a person embarked from has an impact on whether a person survived or not, I will drop the two rows that have no embarked."
   ]
  },
  {
   "cell_type": "code",
   "execution_count": 237,
   "metadata": {},
   "outputs": [],
   "source": [
    "train_data = train_data.dropna(axis=0)\n",
    "test_data = test_data.dropna(axis=0)"
   ]
  },
  {
   "cell_type": "markdown",
   "metadata": {},
   "source": [
    "### Feature Engineering:\n",
    "Now that data missingness has been addressed, now we turn to feature engineering.  Initial thoughts:\n",
    "1. Family size by combining sibsp (sibling/spouse) and parch (parent/children) variables\n",
    "2. Name Title\n",
    "3. Cabin or not a Cabin (Maybe cabin class?)"
   ]
  },
  {
   "cell_type": "code",
   "execution_count": null,
   "metadata": {},
   "outputs": [],
   "source": []
  },
  {
   "cell_type": "code",
   "execution_count": null,
   "metadata": {},
   "outputs": [],
   "source": []
  },
  {
   "cell_type": "code",
   "execution_count": null,
   "metadata": {},
   "outputs": [],
   "source": []
  },
  {
   "cell_type": "code",
   "execution_count": null,
   "metadata": {},
   "outputs": [],
   "source": []
  },
  {
   "cell_type": "code",
   "execution_count": null,
   "metadata": {},
   "outputs": [],
   "source": []
  },
  {
   "cell_type": "code",
   "execution_count": null,
   "metadata": {},
   "outputs": [],
   "source": []
  },
  {
   "cell_type": "code",
   "execution_count": null,
   "metadata": {},
   "outputs": [],
   "source": []
  },
  {
   "cell_type": "code",
   "execution_count": 238,
   "metadata": {},
   "outputs": [],
   "source": [
    "cat_vars_train = list(train_data.dtypes.index[train_data.dtypes == 'object'])\n",
    "cat_vars_test = list(test_data.dtypes.index[test_data.dtypes == 'object'])"
   ]
  },
  {
   "cell_type": "code",
   "execution_count": 239,
   "metadata": {},
   "outputs": [],
   "source": [
    "# One hot encode variables\n",
    "handle = \"value\" # error return_nan value indicator\n",
    "onehoter =  ce.OneHotEncoder(return_df = True, \n",
    "                       cols = cat_vars_train, \n",
    "                       drop_invariant = False,\n",
    "                       use_cat_names = True, \n",
    "                       handle_missing = handle, \n",
    "                       handle_unknown = handle)\n",
    "\n",
    "onehoter.fit(train_data)\n",
    "encoded_train = onehoter.transform(train_data)\n",
    "\n",
    "handle = \"value\" # error return_nan value indicator\n",
    "onehoter =  ce.OneHotEncoder(return_df = True, \n",
    "                       cols = cat_vars_test, \n",
    "                       drop_invariant = False,\n",
    "                       use_cat_names = True, \n",
    "                       handle_missing = handle, \n",
    "                       handle_unknown = handle)\n",
    "onehoter.fit(test_data)\n",
    "encoded_test = onehoter.transform(test_data)"
   ]
  },
  {
   "cell_type": "code",
   "execution_count": 240,
   "metadata": {},
   "outputs": [],
   "source": [
    "# Scale train and test data using min max scaling\n",
    "names = encoded_train.columns\n",
    "scaler = MinMaxScaler()\n",
    "scaler.fit(encoded_train)\n",
    "scaled_train = scaler.transform(encoded_train)\n",
    "scaled_train = pd.DataFrame(scaled_train, columns=names)\n",
    "\n",
    "names = encoded_test.columns\n",
    "scaler = MinMaxScaler()\n",
    "scaler.fit(encoded_test)\n",
    "scaled_test = scaler.transform(encoded_test)\n",
    "scaled_test = pd.DataFrame(scaled_test, columns=names)"
   ]
  },
  {
   "cell_type": "markdown",
   "metadata": {},
   "source": [
    "## Summary:"
   ]
  },
  {
   "cell_type": "markdown",
   "metadata": {},
   "source": [
    "### 3. EDA"
   ]
  },
  {
   "cell_type": "code",
   "execution_count": null,
   "metadata": {},
   "outputs": [],
   "source": [
    "sns.pairplot(scaled_train, hue = \"Survived\")"
   ]
  },
  {
   "cell_type": "code",
   "execution_count": null,
   "metadata": {},
   "outputs": [],
   "source": []
  },
  {
   "cell_type": "code",
   "execution_count": null,
   "metadata": {},
   "outputs": [],
   "source": []
  },
  {
   "cell_type": "code",
   "execution_count": null,
   "metadata": {},
   "outputs": [],
   "source": []
  },
  {
   "cell_type": "markdown",
   "metadata": {},
   "source": [
    "### Split into features and target"
   ]
  },
  {
   "cell_type": "code",
   "execution_count": 26,
   "metadata": {},
   "outputs": [],
   "source": [
    "X_train = scaled_train.drop([\"Survived\"], axis=1)\n",
    "y_train = scaled_train[\"Survived\"]"
   ]
  },
  {
   "cell_type": "markdown",
   "metadata": {},
   "source": [
    "### 4. Logistic Regression"
   ]
  },
  {
   "cell_type": "code",
   "execution_count": 27,
   "metadata": {},
   "outputs": [],
   "source": [
    "clf_lr = LogisticRegressionCV(cv=5, random_state=42)\n",
    "clf_lr = clf_lr.fit(X_train, y_train)"
   ]
  },
  {
   "cell_type": "code",
   "execution_count": 28,
   "metadata": {},
   "outputs": [
    {
     "data": {
      "text/plain": [
       "0.8008998875140607"
      ]
     },
     "execution_count": 28,
     "metadata": {},
     "output_type": "execute_result"
    }
   ],
   "source": [
    "clf_lr.score(X_train, y_train)"
   ]
  },
  {
   "cell_type": "code",
   "execution_count": null,
   "metadata": {},
   "outputs": [],
   "source": []
  },
  {
   "cell_type": "markdown",
   "metadata": {},
   "source": [
    "### 5. Random Forrest"
   ]
  },
  {
   "cell_type": "code",
   "execution_count": 29,
   "metadata": {},
   "outputs": [],
   "source": [
    "hypers_rf = {\"n_estimators\":[50, 75, 100, 125, 150], \n",
    "             \"max_depth\":[5, 10, 15, 20, 25, 30], \n",
    "             \"min_samples_leaf\":[3, 4, 5, 6, 7, 8]}\n",
    "\n",
    "clf_rf = RandomForestClassifier()\n",
    "clf_rf = GridSearchCV(clf_rf, hypers_rf, cv=5, iid = False, return_train_score=True)"
   ]
  },
  {
   "cell_type": "code",
   "execution_count": 30,
   "metadata": {},
   "outputs": [
    {
     "data": {
      "text/plain": [
       "GridSearchCV(cv=5, error_score='raise-deprecating',\n",
       "             estimator=RandomForestClassifier(bootstrap=True, class_weight=None,\n",
       "                                              criterion='gini', max_depth=None,\n",
       "                                              max_features='auto',\n",
       "                                              max_leaf_nodes=None,\n",
       "                                              min_impurity_decrease=0.0,\n",
       "                                              min_impurity_split=None,\n",
       "                                              min_samples_leaf=1,\n",
       "                                              min_samples_split=2,\n",
       "                                              min_weight_fraction_leaf=0.0,\n",
       "                                              n_estimators='warn', n_jobs=None,\n",
       "                                              oob_score=False,\n",
       "                                              random_state=None, verbose=0,\n",
       "                                              warm_start=False),\n",
       "             iid=False, n_jobs=None,\n",
       "             param_grid={'max_depth': [5, 10, 15, 20, 25, 30],\n",
       "                         'min_samples_leaf': [3, 4, 5, 6, 7, 8],\n",
       "                         'n_estimators': [50, 75, 100, 125, 150]},\n",
       "             pre_dispatch='2*n_jobs', refit=True, return_train_score=True,\n",
       "             scoring=None, verbose=0)"
      ]
     },
     "execution_count": 30,
     "metadata": {},
     "output_type": "execute_result"
    }
   ],
   "source": [
    "# Train Decision Tree\n",
    "clf_rf.fit(X_train, y_train)"
   ]
  },
  {
   "cell_type": "code",
   "execution_count": 31,
   "metadata": {},
   "outputs": [],
   "source": [
    "# Get hyper parameters that maximize performance\n",
    "scores = list(clf_rf.cv_results_['mean_test_score'])\n",
    "max_index = scores.index(max(scores))\n",
    "params = clf_rf.cv_results_['params'][max_index]"
   ]
  },
  {
   "cell_type": "code",
   "execution_count": 32,
   "metadata": {},
   "outputs": [
    {
     "name": "stdout",
     "output_type": "stream",
     "text": [
      "{'max_depth': 20, 'min_samples_leaf': 3, 'n_estimators': 125}\n"
     ]
    }
   ],
   "source": [
    "# Print best parameters\n",
    "print(params)"
   ]
  },
  {
   "cell_type": "code",
   "execution_count": 33,
   "metadata": {},
   "outputs": [
    {
     "data": {
      "text/plain": [
       "0.8346664127467784"
      ]
     },
     "execution_count": 33,
     "metadata": {},
     "output_type": "execute_result"
    }
   ],
   "source": [
    "# Print score of that model\n",
    "scores[max_index]"
   ]
  },
  {
   "cell_type": "code",
   "execution_count": 34,
   "metadata": {},
   "outputs": [
    {
     "name": "stderr",
     "output_type": "stream",
     "text": [
      "/Users/dusty/anaconda3/lib/python3.7/site-packages/sklearn/ensemble/forest.py:245: FutureWarning: The default value of n_estimators will change from 10 in version 0.20 to 100 in 0.22.\n",
      "  \"10 in version 0.20 to 100 in 0.22.\", FutureWarning)\n"
     ]
    },
    {
     "data": {
      "text/plain": [
       "0.9640044994375703"
      ]
     },
     "execution_count": 34,
     "metadata": {},
     "output_type": "execute_result"
    }
   ],
   "source": [
    "clf_rf = RandomForestClassifier()\n",
    "clf_rf.fit(X_train, y_train)\n",
    "clf_rf.score(X_train, y_train)"
   ]
  },
  {
   "cell_type": "code",
   "execution_count": null,
   "metadata": {},
   "outputs": [],
   "source": []
  },
  {
   "cell_type": "code",
   "execution_count": null,
   "metadata": {},
   "outputs": [],
   "source": []
  },
  {
   "cell_type": "markdown",
   "metadata": {},
   "source": [
    "### 6. Gradient Boosted Ensemble Model"
   ]
  },
  {
   "cell_type": "code",
   "execution_count": 70,
   "metadata": {},
   "outputs": [],
   "source": [
    "# Gradient boost hyper parameters\n",
    "hypers_gb = {\"n_estimators\":[11, 12, 13, 14, 15], \n",
    "             \"learning_rate\":[0.1, 0.11, 0.12, 0.13, 0.14, 0.15, 0.16, 0.17, 0.18, 0.19, 0.2], \n",
    "             \"max_depth\":[15, 16, 17, 18, 19, 20, 21, 22, 23, 24, 25], \n",
    "             \"min_samples_leaf\":[5, 6, 7, 8, 9, 10, 11, 12, 13, 14, 15]}\n",
    "clf_gb = GradientBoostingClassifier()\n",
    "clf_gb = GridSearchCV(clf_gb, hypers_gb, cv=5, iid = False, return_train_score=True)"
   ]
  },
  {
   "cell_type": "code",
   "execution_count": 71,
   "metadata": {},
   "outputs": [
    {
     "data": {
      "text/plain": [
       "GridSearchCV(cv=5, error_score='raise-deprecating',\n",
       "             estimator=GradientBoostingClassifier(criterion='friedman_mse',\n",
       "                                                  init=None, learning_rate=0.1,\n",
       "                                                  loss='deviance', max_depth=3,\n",
       "                                                  max_features=None,\n",
       "                                                  max_leaf_nodes=None,\n",
       "                                                  min_impurity_decrease=0.0,\n",
       "                                                  min_impurity_split=None,\n",
       "                                                  min_samples_leaf=1,\n",
       "                                                  min_samples_split=2,\n",
       "                                                  min_weight_fraction_leaf=0.0,\n",
       "                                                  n_estimators=100,\n",
       "                                                  n_iter_no...\n",
       "                                                  validation_fraction=0.1,\n",
       "                                                  verbose=0, warm_start=False),\n",
       "             iid=False, n_jobs=None,\n",
       "             param_grid={'learning_rate': [0.1, 0.11, 0.12, 0.13, 0.14, 0.15,\n",
       "                                           0.16, 0.17, 0.18, 0.19, 0.2],\n",
       "                         'max_depth': [15, 16, 17, 18, 19, 20, 21, 22, 23, 24,\n",
       "                                       25],\n",
       "                         'min_samples_leaf': [5, 6, 7, 8, 9, 10, 11, 12, 13, 14,\n",
       "                                              15],\n",
       "                         'n_estimators': [11, 12, 13, 14, 15]},\n",
       "             pre_dispatch='2*n_jobs', refit=True, return_train_score=True,\n",
       "             scoring=None, verbose=0)"
      ]
     },
     "execution_count": 71,
     "metadata": {},
     "output_type": "execute_result"
    }
   ],
   "source": [
    "clf_gb.fit(X_train, y_train)"
   ]
  },
  {
   "cell_type": "code",
   "execution_count": 72,
   "metadata": {},
   "outputs": [],
   "source": [
    "# Get hyper parameters that maximize performance\n",
    "scores = list(clf_gb.cv_results_['mean_test_score'])\n",
    "max_index = scores.index(max(scores))\n",
    "params = clf_gb.cv_results_['params'][max_index]"
   ]
  },
  {
   "cell_type": "code",
   "execution_count": 73,
   "metadata": {},
   "outputs": [
    {
     "name": "stdout",
     "output_type": "stream",
     "text": [
      "{'learning_rate': 0.19, 'max_depth': 15, 'min_samples_leaf': 15, 'n_estimators': 13}\n"
     ]
    }
   ],
   "source": [
    "# Print best parameters\n",
    "print(params)"
   ]
  },
  {
   "cell_type": "code",
   "execution_count": 74,
   "metadata": {},
   "outputs": [
    {
     "data": {
      "text/plain": [
       "0.8481749508030216"
      ]
     },
     "execution_count": 74,
     "metadata": {},
     "output_type": "execute_result"
    }
   ],
   "source": [
    "# Print score of that model\n",
    "scores[max_index]"
   ]
  },
  {
   "cell_type": "code",
   "execution_count": null,
   "metadata": {},
   "outputs": [],
   "source": []
  }
 ],
 "metadata": {
  "kernelspec": {
   "display_name": "Python 3",
   "language": "python",
   "name": "python3"
  },
  "language_info": {
   "codemirror_mode": {
    "name": "ipython",
    "version": 3
   },
   "file_extension": ".py",
   "mimetype": "text/x-python",
   "name": "python",
   "nbconvert_exporter": "python",
   "pygments_lexer": "ipython3",
   "version": "3.7.3"
  }
 },
 "nbformat": 4,
 "nbformat_minor": 2
}
